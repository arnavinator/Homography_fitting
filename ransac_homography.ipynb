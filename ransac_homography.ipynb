{
 "cells": [
  {
   "cell_type": "markdown",
   "metadata": {},
   "source": [
    "# 10 | Independent coding: Robust Homographies with RANSAC\n",
    "**ES143 Computer Vision, Harvard University, Fall 2020**\n",
    "\n",
    "This is an independent coding task. In it you will learn to:\n",
    "* use RANSAC to estimate a homography in the presence of outliers\n",
    "\n",
    "## Instructions:\n",
    "1. Run the notebook\n",
    "2. Read the notebook and edit it following the instructions\n",
    "3. Post a snapshop of your final result to [padlet](https://padlet.com/zickler/ransacH) and submit `.ipynb` and `.html` versions of this notebook to [canvas](https://canvas.harvard.edu/courses/78234/assignments/422909). Submission filenames should be of the form `ransacH_lastname_firstname.ipynb` and `ransacH_lastname_firstname.html`."
   ]
  },
  {
   "cell_type": "code",
   "execution_count": 1,
   "metadata": {},
   "outputs": [],
   "source": [
    "# Import any required libraries here\n",
    "import cv2                   # OpenCV\n",
    "import numpy as np           # numpy\n",
    "import scipy.interpolate  # interpolation, used for questions 2, 3 and 4\n",
    "\n",
    "# Use this line to make matplotlib plot inline (only need to call it once when importing matplotlib)\n",
    "%matplotlib inline\n",
    "\n",
    "import matplotlib.pyplot as plt\n",
    "# Modify this line to adjust the displayed plot size. You can also call\n",
    "# it with different parameters before specific plots.\n",
    "plt.rcParams['figure.figsize'] = [10, 10]"
   ]
  },
  {
   "cell_type": "markdown",
   "metadata": {},
   "source": [
    "## Helper Functions\n",
    "\n",
    "The next cell provides two main functions that you should read and understand, along with a couple of smaller helpers that you should already be familiar with.\n",
    "\n",
    "`H = getH(X1, X2)` accepts two $N\\times 2$ arrays of inhomogeneous 2D points, each with rows $(x,y)$, and returns a $3\\times 3$ homography ${\\bf H}$ that maps the points ${\\bf x}_1\\in$ `X1` as close as possible to the points ${\\bf x}_2\\in$ `X2`, that is ${\\bf x}_2\\approx{\\bf H}{\\bf x}_1$. It uses the (normalized) homogeneous least-squares algorithm described in Algorithm 4.2 of Hartley and Zisserman (Chapter 4, page 109) that you implemented yourself in a previous notebook.\n",
    "\n",
    "`plotH(X1,X2,H)` generates plots that help visualize the accuracy of an estimated homography matrix. It accepts the same two $N\\times 2$ arrays of 2D points as above, as well as $3\\times 3$ homography ${\\bf H}$. It creates two side-by-side axes, one with a scatter plot of Image 1 points ${\\bf x}_1\\in$ `X1`, and the other with a scatter plot of Image 2 points ${\\bf x}_2\\in$ `X2`. It superimposes on these the homography-mapped points: ${\\bf H}{\\bf x}_1\\approx {\\bf x}_2$ in the second axes, and ${\\bf H}^{-1}{\\bf x}_2\\approx {\\bf x}_1$ in the first axes. See examples below. If the homography is accurate then the input points and their homography-mapped counterparts should be near to each other.\n",
    "\n",
    "Lines 79-81 of this cell are important for you to understand. They show how to efficiently compute the homography-mapped points: ${\\bf H}{\\bf x}_1$ for all ${\\bf x}_1\\in$ `X1`, and ${\\bf H}^{-1}{\\bf x}_2$ for all ${\\bf x}_2\\in$ `X2`."
   ]
  },
  {
   "cell_type": "code",
   "execution_count": 2,
   "metadata": {},
   "outputs": [],
   "source": [
    "# Convert from inhomogeneous to homogeneous coordinates\n",
    "def in2hom(X):\n",
    "    return np.concatenate([X, np.ones((X.shape[0], 1), dtype=np.float32)], axis=1)\n",
    "\n",
    "# Convert from homogeneous to inhomogeneous coordinates\n",
    "def hom2in(X):\n",
    "    return X[:, :2] / X[:, 2:]\n",
    "\n",
    "# Normalizing similarity transform for HZ Algorithm 4.2\n",
    "def getT(X1):\n",
    "    \n",
    "    assert X1.shape[1] == 2, \"X1 must have 2 columns (but it has {} columns)\".format(X1.shape[1])\n",
    "    \n",
    "    N = X1.shape[0]\n",
    "    \n",
    "    # Compute mean x and y\n",
    "    xybar = X1.mean(axis=0, keepdims=True)\n",
    "    \n",
    "    # Compute the denominator of s (divided by N)\n",
    "    denom = np.mean(np.sqrt(np.sum((X1 - xybar) ** 2, axis=1)))\n",
    "    \n",
    "    # Compute s, tx, ty\n",
    "    s = np.sqrt(2) / denom\n",
    "    tx = -s * xybar[0, 0]\n",
    "    ty = -s * xybar[0, 1]\n",
    "    \n",
    "    return np.array([[s, 0, tx],\n",
    "                     [0, s, ty],\n",
    "                     [0, 0, 1 ]], dtype=np.float32)\n",
    "\n",
    "# Estimate 3x3 homography from two Nx2 inhomogeneous point-sets\n",
    "def getH(X1, X2):\n",
    "\n",
    "    assert np.all(X1.shape == X2.shape), \"X1 and X2 must have the same shape\"\n",
    "    assert X1.shape[1] == 2, \"X1 and X2 must have 2 columns (but they have {} columns)\".format(X1.shape[1])\n",
    "    \n",
    "    N = X1.shape[0]\n",
    "    \n",
    "    # Normalizing similarity transform for both sets of points\n",
    "    T1 = getT(X1)\n",
    "    T2 = getT(X2)\n",
    "        \n",
    "    # Get homogeneous points and apply T matrix (note that X*T' = (T*X')', where ' denotes the transpose operator)\n",
    "    X1h = in2hom(X1).dot(T1.transpose())\n",
    "    X2h = in2hom(X2).dot(T2.transpose())\n",
    "    \n",
    "    # Construct A matrix of the homogeneous linear system.        \n",
    "    A11 = np.zeros((N, 3), dtype=np.float32)\n",
    "    A12 =  X2h[:, 2:]  * X1h\n",
    "    A13 = -X2h[:, 1:2] * X1h\n",
    "    A21 = -A13\n",
    "    A22 = -X2h[:, :1]  * X1h\n",
    "    A23 = A11\n",
    "    \n",
    "    A = np.block([[A11, A12, A13],\n",
    "                  [A21, A22, A23]])\n",
    "    \n",
    "    # Compute SVD and take last column of V (note that numpy.linalg.svd() returns V transpose)\n",
    "    _, _, VT = np.linalg.svd(A)\n",
    "    \n",
    "    h = VT[-1, :]\n",
    "\n",
    "    # Get H' by reshaping h\n",
    "    Hp = np.reshape(h, (3, 3))\n",
    "        \n",
    "    # Undo the normalizing similarity transforms\n",
    "    invT2Hp, _, _, _ = np.linalg.lstsq(T2, Hp, rcond=None)\n",
    "    H = invT2Hp.dot(T1)\n",
    "    \n",
    "    return H\n",
    "\n",
    "# Display input points X1, X2 and homography-mapped points H @ X1, inv(H) @ X2\n",
    "def plotH(X1,X2,H):\n",
    "    \n",
    "    # Map points using the estimated homography:\n",
    "    #    map X1 via H @ X1\n",
    "    #    map X2 via inv(H) @ X2\n",
    "    # Note that X*H' = (T*H')', where ' denotes the transpose operator.\n",
    "    # Also, as usual, use numpy.linalg.lstsq() instead of inv().\n",
    "    X1_mapped = hom2in(in2hom(X1).dot( H.T ) )\n",
    "    X2_mapped, _, _, _ = np.linalg.lstsq(H, in2hom(X2).transpose(), rcond=None)\n",
    "    X2_mapped = hom2in(X2_mapped.transpose())\n",
    "\n",
    "    # create figure to verify results\n",
    "    fig, (ax1,ax2) = plt.subplots(1,2,figsize=(15,10))\n",
    "\n",
    "    # plot input points\n",
    "    ax1.plot(X1[:, 0], X1[:, 1], 'b.', markersize=12, label = 'X1')\n",
    "    ax2.plot(X2[:, 0], X2[:, 1], 'b.', markersize=12, label = 'X2')\n",
    "\n",
    "    # plot points mapped by estimated homography and its inverse\n",
    "    ax1.plot(X2_mapped[:, 0], X2_mapped[:, 1], 'r.', markersize=6,label = 'H_inv*X2')\n",
    "    ax2.plot(X1_mapped[:, 0], X1_mapped[:, 1], 'r.', markersize=6, label = 'H*X1')\n",
    "\n",
    "    ax1.legend()\n",
    "    ax2.legend()\n",
    "\n",
    "    # make axes \"image-like\", with origin (0,0) in the top-left corner\n",
    "    ax1.set_aspect(aspect=1)\n",
    "    ax1.set_xlim([-IMSIZE, IMSIZE])\n",
    "    ax1.set_ylim([-IMSIZE, IMSIZE])\n",
    "    ax1.invert_yaxis()\n",
    "    ax1.xaxis.tick_top()\n",
    "\n",
    "    ax2.set_aspect(aspect=1)\n",
    "    ax2.set_xlim([-IMSIZE, IMSIZE])\n",
    "    ax2.set_ylim([-IMSIZE, IMSIZE])\n",
    "    ax2.invert_yaxis()\n",
    "    ax2.xaxis.tick_top()\n",
    "    \n",
    "    return fig, ax1, ax2"
   ]
  },
  {
   "cell_type": "markdown",
   "metadata": {},
   "source": [
    "## Define and visualize the test data\n",
    "\n",
    "The next cell generates a random set of test data, including a \"true\" homography matrix `TRUE_H` that your RANSAC code will attempt to estimate. There are three main variables defined in this cell that you will use later in the notebook:\n",
    "\n",
    "`X1in`: $N\\times 2$ array of inhomogeneous 2D points in Image 1, with rows $(x,y)$\n",
    "`X2in`: $N\\times 2$ array of inhomogeneous 2D points in Image 2, with rows $(x,y)$\n",
    "`TRUE_H`: Homoography matrix that is to obe estimated\n",
    "\n",
    "The dataset is generated with no noise, so that ${\\bf x}_2={\\bf H}_\\text{TRUE}{\\bf x}_1$ for all corresponding rows of `X1in` and `X2in`.\n",
    "\n",
    "This means that if we estimate the homography using `H = getH(X1in,X2in)`, then the estimated homography `H` is equal to the true homography `TRUE_H` up to scale. This is evident in the plot that follows the cell, where the homography-mapped points (small red dots) using estimated homography `H` are exactly coincident with their corresponding input points (large blue dots).  \n"
   ]
  },
  {
   "cell_type": "code",
   "execution_count": 51,
   "metadata": {},
   "outputs": [
    {
     "data": {
      "text/plain": [
       "(<Figure size 1080x720 with 2 Axes>, <AxesSubplot:>, <AxesSubplot:>)"
      ]
     },
     "execution_count": 51,
     "metadata": {},
     "output_type": "execute_result"
    },
    {
     "data": {
      "image/png": "[encoded data removed]",
      "text/plain": [
       "<Figure size 1080x720 with 2 Axes>"
      ]
     },
     "metadata": {
      "needs_background": "light"
     },
     "output_type": "display_data"
    }
   ],
   "source": [
    "NUM_INLIERS = 30   #  number of inlier correspondences (default = 30)\n",
    "IMSIZE = 4         # \"image size\": point coordinates are in range [-IMSIZE, IMSIZE]\n",
    "\n",
    "# generate a random 3x3 homography\n",
    "H = np.reshape(np.random.rand(9),(3,3))\n",
    "\n",
    "# generate random \"inlier\" points in Image 1:\n",
    "#   NUM_INLIERS x 2 array with rows (x,y)\n",
    "X1in = np.random.rand(NUM_INLIERS, 2)\n",
    "\n",
    "# corresponding \"inlier\" points in Image 2.\n",
    "#   (note that X*H' = (H*X')' where ' is transpose operator)\n",
    "X2in = hom2in( in2hom(X1in).dot( H.T ) )\n",
    "\n",
    "# Transform the point-sets to have coordinates in range [-IMSIZE, IMSIZE]... centroid thing!!!\n",
    "T1 = getT(X1in)\n",
    "T2 = getT(X2in)\n",
    "X1in = hom2in(in2hom(X1in).dot(T1.T))\n",
    "X2in = hom2in(in2hom(X2in).dot(T2.T))\n",
    "\n",
    "# Adjust the initial random homography to incorporate these transformations.\n",
    "# This is the homography that is supposed to be estimated in subsequent cells.\n",
    "TRUE_H = T2 @ H @ np.linalg.inv(T1)\n",
    "\n",
    "# Estimate homography\n",
    "H_est = getH(X1in, X2in)\n",
    "\n",
    "X1_mapped = hom2in(in2hom(X1).dot( H.T ) )\n",
    "X2_mapped, _, _, _ = np.linalg.lstsq(H, in2hom(X2).transpose(), rcond=None)\n",
    "X2_mapped = hom2in(X2_mapped.transpose())\n",
    "\n",
    "# visualize results\n",
    "plotH(X1in,X2in,H_est)"
   ]
  },
  {
   "cell_type": "markdown",
   "metadata": {},
   "source": [
    "## Introduce outliers, and feel the pain\n",
    "\n",
    "The next cell adds _just one_ outlier to this dataset, meaning one additional point in Image 1 and one additional point in Image 2 that are not related by homography `TRUE_H` and are falsely assumed to correspond. (You are welcome to increase the number of outliers by changing the value of `NUM_OUTLIERS`.)\n",
    "\n",
    "Now, when the same `getH(X1, X2)` function is used to estimate the homography using this new dataset with outliers, the results are not good. Because `getH()` minimizes error in the least-squares sense, it is badly affected by the outliers. As a result, the homography-mapped points (small red dots) are all displaced from where we want them to be (large blue dots)."
   ]
  },
  {
   "cell_type": "code",
   "execution_count": 57,
   "metadata": {},
   "outputs": [
    {
     "data": {
      "text/plain": [
       "(<Figure size 1080x720 with 2 Axes>, <AxesSubplot:>, <AxesSubplot:>)"
      ]
     },
     "execution_count": 57,
     "metadata": {},
     "output_type": "execute_result"
    },
    {
     "data": {
      "image/png": "[encoded data removed]",
      "text/plain": [
       "<Figure size 1080x720 with 2 Axes>"
      ]
     },
     "metadata": {
      "needs_background": "light"
     },
     "output_type": "display_data"
    }
   ],
   "source": [
    "NUM_OUTLIERS = 5\n",
    "\n",
    "# outliers are random points in Image 1 and unrelated, random points in Image 2\n",
    "X1out = IMSIZE*(np.random.rand(NUM_OUTLIERS, 2) - 0.5)\n",
    "X2out = IMSIZE*(np.random.rand(NUM_OUTLIERS, 2) - 0.5)\n",
    "\n",
    "# combine outliers with inliers\n",
    "X1 = np.vstack((X1in,X1out))\n",
    "X2 = np.vstack((X2in,X2out))\n",
    "\n",
    "# now estimate the homography again and visualize the results\n",
    "H_est2 = getH(X1, X2)\n",
    "\n",
    "plotH(X1,X2,H_est2)"
   ]
  },
  {
   "cell_type": "markdown",
   "metadata": {},
   "source": [
    "## Enter RANSAC (YOUR WORK HERE)\n",
    "The solution to your outlier problem is RANSAC. As discussed in Class Session A on Tu 11/10, the idea is to randomly sample a subset of four correspondences, compute a potential homography ${\\bf H}_i$ from this sample, and then count the number of other correspondences that agree with (i.e., are in the \"consensus set\" of) this potential homography. You repeat this many times (a loop with `num_iters` iterations), keeping track of which consensus set is the largest. At the end, you fit a final homography to the correspondences that are in the largest consensus set, ignoring the other correspondences as \"outliers\".\n",
    "\n",
    "Your task is to write code that replaces line 19. This is the part of the loop that computes the consensus set by assessing how well each correspondence `X1[j,:]`, `X2[j,:]` \"agrees\" with a potential homography ${\\bf H}_i$.\n",
    "\n",
    "In particular, you should replace line 19 with code that properly computes the variable  `distance`, which is meant to be a vector of length `N` (number of points) such that `distance[j]` is the symmetric transfer error between point `X1[j,:]` and point `X2[j,:]` under homography ${\\bf H}_i$. (See Hartley and Zisserman Equation 4.6 on page 94, and see the lecture slides for Class Session A on Tu 11/10.)"
   ]
  },
  {
   "cell_type": "code",
   "execution_count": 53,
   "metadata": {},
   "outputs": [],
   "source": [
    "def getH_ransac(X1, X2, threshold, num_iters):\n",
    "\n",
    "    assert X1.shape[1] == 2, \"X1 must have 2 columns (but it has {} columns)\".format(X1.shape[1])\n",
    "    assert X1.shape[0] == X2.shape[0], \"X1 and X2 must have the same number of rows\"\n",
    "    \n",
    "    N = X1.shape[0] # number of correspondences\n",
    "    \n",
    "    best_consensus = np.zeros((1,))  # Initialize as zeros so its sum is zero\n",
    "    for i in range(num_iters):\n",
    "        \n",
    "        # Randomly select 4 correspondences\n",
    "        ind = np.random.choice(np.arange(N), size=4, replace=False)\n",
    "        \n",
    "        # Get homography between the 4 point pairs\n",
    "        H = getH(X1[ind, :], X2[ind, :])\n",
    "        \n",
    "        # calculate distances between X1 and X2_mapped, and X2 and X1_mapped, and add them\n",
    "        X1_mapped = hom2in(in2hom(X1).dot( H.T ) )\n",
    "        X2_mapped, _, _, _ = np.linalg.lstsq(H, in2hom(X2).transpose(), rcond=None)\n",
    "        X2_mapped = hom2in(X2_mapped.transpose())\n",
    "        \n",
    "        square_diff_1 = np.array((X2 - X1_mapped)**2)\n",
    "        distance_1 = np.sqrt(square_diff_1[:,0] + square_diff_1[:,1])\n",
    "        \n",
    "        square_diff_2 = np.array((X1 - X2_mapped)**2)\n",
    "        distance_2 = np.sqrt(square_diff_2[:,0] + square_diff_2[:,1])\n",
    "        \n",
    "        distances = distance_1 + distance_2\n",
    "\n",
    "        # Find consensus set: Produce a binary vector of length N, where distance[j]==1\n",
    "        # indicates that the j-th correspondence X1[j,:] <-> X2[j,:] is in\n",
    "        # the consensus set\n",
    "        consensus = (distances < threshold)   # equals 1 or 0 for every correspondence\n",
    "\n",
    "        # If size of consensus set is largest so far, use it\n",
    "        if sum(consensus) > sum(best_consensus):\n",
    "            best_consensus = consensus\n",
    "\n",
    "    # Use the largest consensus set to get final least-squares estimate of homography\n",
    "    return getH(X1[best_consensus, :], X2[best_consensus, :])"
   ]
  },
  {
   "cell_type": "markdown",
   "metadata": {},
   "source": [
    "## Use this to test your code\n",
    "When your code is correct, you should see the homography-mapped points (small red dots) be exactly coicident with the input points (large blue dots), except for a small number of outliers. You can test the resilience of the algorithm by experimenting with the RANSAC parameters (`THRESHOLD` and `NUM_ITERS`) and the number of outliers (`NUM_OUTLIERS`).\n",
    "\n",
    "When you are done, post a snapshot of your results to [padlet](https://padlet.com/zickler/ransacH), including your name in the title of your post, and a description of the values (`THRESHOLD`, `NUM_ITERS`, `NUM_OUTLIERS`) that you used."
   ]
  },
  {
   "cell_type": "code",
   "execution_count": 61,
   "metadata": {},
   "outputs": [
    {
     "data": {
      "text/plain": [
       "(<Figure size 1080x720 with 2 Axes>, <AxesSubplot:>, <AxesSubplot:>)"
      ]
     },
     "execution_count": 61,
     "metadata": {},
     "output_type": "execute_result"
    },
    {
     "data": {
      "image/png": "[encoded data removed]",
      "text/plain": [
       "<Figure size 1080x720 with 2 Axes>"
      ]
     },
     "metadata": {
      "needs_background": "light"
     },
     "output_type": "display_data"
    }
   ],
   "source": [
    "# Define RANSAC parameters\n",
    "THRESHOLD = 0.3\n",
    "NUM_ITERS = 100\n",
    "\n",
    "# RANSAC-estimate of homography\n",
    "H_est = getH_ransac(X1, X2, THRESHOLD, NUM_ITERS)\n",
    "\n",
    "# visualize results\n",
    "plotH(X1,X2,H_est)"
   ]
  }
 ],
 "metadata": {
  "kernelspec": {
   "display_name": "Python 3",
   "language": "python",
   "name": "python3"
  },
  "language_info": {
   "codemirror_mode": {
    "name": "ipython",
    "version": 3
   },
   "file_extension": ".py",
   "mimetype": "text/x-python",
   "name": "python",
   "nbconvert_exporter": "python",
   "pygments_lexer": "ipython3",
   "version": "3.8.5"
  }
 },
 "nbformat": 4,
 "nbformat_minor": 2
}
